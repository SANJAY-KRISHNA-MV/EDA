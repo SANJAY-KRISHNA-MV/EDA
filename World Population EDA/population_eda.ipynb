{
 "cells": [
  {
   "cell_type": "code",
   "execution_count": 2,
   "id": "4e344414",
   "metadata": {},
   "outputs": [],
   "source": [
    "# Import necessary libraries\n",
    "import pandas as pd\n",
    "import matplotlib.pyplot as plt\n",
    "import seaborn as sns\n",
    "import numpy as np"
   ]
  },
  {
   "cell_type": "markdown",
   "id": "600c9de8",
   "metadata": {},
   "source": [
    "The dataset is loaded into a pandas DataFrame using the pandas library and stored in the raw_df variable. This DataFrame contains the unprocessed and uncleaned raw data, serving as the foundation for subsequent exploratory data analysis and preprocessing steps."
   ]
  },
  {
   "cell_type": "code",
   "execution_count": 3,
   "id": "1caff0dd",
   "metadata": {},
   "outputs": [],
   "source": [
    "raw_df = pd.read_csv(r'../datasets/world_population.csv')"
   ]
  },
  {
   "cell_type": "markdown",
   "id": "751e140a",
   "metadata": {},
   "source": [
    "### Dataset Overview\n",
    "The analysis utilizes the World Population dataset, which contains information on the population of various countries and regions around the world. The dataset is sourced from a publicly available CSV file and includes relevant columns such as country names, population figures, and other geographical details.\n",
    "<br><br>\n",
    "Key Features:\n",
    "The dataset provides insights into global population trends, allowing for analysis of population distribution, growth, and comparisons across different countries and regions."
   ]
  },
  {
   "cell_type": "markdown",
   "id": "c41a9b32",
   "metadata": {},
   "source": [
    "# Initial Data Exploration"
   ]
  },
  {
   "cell_type": "code",
   "execution_count": 4,
   "id": "75655d80",
   "metadata": {},
   "outputs": [
    {
     "data": {
      "application/vnd.microsoft.datawrangler.viewer.v0+json": {
       "columns": [
        {
         "name": "index",
         "rawType": "int64",
         "type": "integer"
        },
        {
         "name": "Rank",
         "rawType": "int64",
         "type": "integer"
        },
        {
         "name": "CCA3",
         "rawType": "object",
         "type": "string"
        },
        {
         "name": "Country",
         "rawType": "object",
         "type": "string"
        },
        {
         "name": "Capital",
         "rawType": "object",
         "type": "string"
        },
        {
         "name": "Continent",
         "rawType": "object",
         "type": "string"
        },
        {
         "name": "2022 Population",
         "rawType": "float64",
         "type": "float"
        },
        {
         "name": "2020 Population",
         "rawType": "float64",
         "type": "float"
        },
        {
         "name": "2015 Population",
         "rawType": "float64",
         "type": "float"
        },
        {
         "name": "2010 Population",
         "rawType": "float64",
         "type": "float"
        },
        {
         "name": "2000 Population",
         "rawType": "float64",
         "type": "float"
        },
        {
         "name": "1990 Population",
         "rawType": "float64",
         "type": "float"
        },
        {
         "name": "1980 Population",
         "rawType": "float64",
         "type": "float"
        },
        {
         "name": "1970 Population",
         "rawType": "float64",
         "type": "float"
        },
        {
         "name": "Area (km²)",
         "rawType": "float64",
         "type": "float"
        },
        {
         "name": "Density (per km²)",
         "rawType": "float64",
         "type": "float"
        },
        {
         "name": "Growth Rate",
         "rawType": "float64",
         "type": "float"
        },
        {
         "name": "World Population Percentage",
         "rawType": "float64",
         "type": "float"
        }
       ],
       "conversionMethod": "pd.DataFrame",
       "ref": "433863d2-d23f-4d5b-8c17-a5683b999dcc",
       "rows": [
        [
         "0",
         "36",
         "AFG",
         "Afghanistan",
         "Kabul",
         "Asia",
         "41128771.0",
         "38972230.0",
         "33753499.0",
         "28189672.0",
         "19542982.0",
         "10694796.0",
         "12486631.0",
         "10752971.0",
         "652230.0",
         "63.0587",
         "1.0257",
         "0.52"
        ],
        [
         "1",
         "138",
         "ALB",
         "Albania",
         "Tirana",
         "Europe",
         "2842321.0",
         "2866849.0",
         "2882481.0",
         "2913399.0",
         "3182021.0",
         "3295066.0",
         "2941651.0",
         "2324731.0",
         "28748.0",
         "98.8702",
         "0.9957",
         "0.04"
        ],
        [
         "2",
         "34",
         "DZA",
         "Algeria",
         "Algiers",
         "Africa",
         "44903225.0",
         "43451666.0",
         "39543154.0",
         "35856344.0",
         "30774621.0",
         "25518074.0",
         "18739378.0",
         "13795915.0",
         "2381741.0",
         "18.8531",
         "1.0164",
         "0.56"
        ],
        [
         "3",
         "213",
         "ASM",
         "American Samoa",
         "Pago Pago",
         "Oceania",
         "44273.0",
         "46189.0",
         "51368.0",
         "54849.0",
         "58230.0",
         "47818.0",
         "32886.0",
         "27075.0",
         "199.0",
         "222.4774",
         "0.9831",
         "0.0"
        ],
        [
         "4",
         "203",
         "AND",
         "Andorra",
         "Andorra la Vella",
         "Europe",
         "79824.0",
         "77700.0",
         "71746.0",
         "71519.0",
         "66097.0",
         "53569.0",
         "35611.0",
         "19860.0",
         "468.0",
         "170.5641",
         "1.01",
         "0.0"
        ]
       ],
       "shape": {
        "columns": 17,
        "rows": 5
       }
      },
      "text/html": [
       "<div>\n",
       "<style scoped>\n",
       "    .dataframe tbody tr th:only-of-type {\n",
       "        vertical-align: middle;\n",
       "    }\n",
       "\n",
       "    .dataframe tbody tr th {\n",
       "        vertical-align: top;\n",
       "    }\n",
       "\n",
       "    .dataframe thead th {\n",
       "        text-align: right;\n",
       "    }\n",
       "</style>\n",
       "<table border=\"1\" class=\"dataframe\">\n",
       "  <thead>\n",
       "    <tr style=\"text-align: right;\">\n",
       "      <th></th>\n",
       "      <th>Rank</th>\n",
       "      <th>CCA3</th>\n",
       "      <th>Country</th>\n",
       "      <th>Capital</th>\n",
       "      <th>Continent</th>\n",
       "      <th>2022 Population</th>\n",
       "      <th>2020 Population</th>\n",
       "      <th>2015 Population</th>\n",
       "      <th>2010 Population</th>\n",
       "      <th>2000 Population</th>\n",
       "      <th>1990 Population</th>\n",
       "      <th>1980 Population</th>\n",
       "      <th>1970 Population</th>\n",
       "      <th>Area (km²)</th>\n",
       "      <th>Density (per km²)</th>\n",
       "      <th>Growth Rate</th>\n",
       "      <th>World Population Percentage</th>\n",
       "    </tr>\n",
       "  </thead>\n",
       "  <tbody>\n",
       "    <tr>\n",
       "      <th>0</th>\n",
       "      <td>36</td>\n",
       "      <td>AFG</td>\n",
       "      <td>Afghanistan</td>\n",
       "      <td>Kabul</td>\n",
       "      <td>Asia</td>\n",
       "      <td>41128771.0</td>\n",
       "      <td>38972230.0</td>\n",
       "      <td>33753499.0</td>\n",
       "      <td>28189672.0</td>\n",
       "      <td>19542982.0</td>\n",
       "      <td>10694796.0</td>\n",
       "      <td>12486631.0</td>\n",
       "      <td>10752971.0</td>\n",
       "      <td>652230.0</td>\n",
       "      <td>63.0587</td>\n",
       "      <td>1.0257</td>\n",
       "      <td>0.52</td>\n",
       "    </tr>\n",
       "    <tr>\n",
       "      <th>1</th>\n",
       "      <td>138</td>\n",
       "      <td>ALB</td>\n",
       "      <td>Albania</td>\n",
       "      <td>Tirana</td>\n",
       "      <td>Europe</td>\n",
       "      <td>2842321.0</td>\n",
       "      <td>2866849.0</td>\n",
       "      <td>2882481.0</td>\n",
       "      <td>2913399.0</td>\n",
       "      <td>3182021.0</td>\n",
       "      <td>3295066.0</td>\n",
       "      <td>2941651.0</td>\n",
       "      <td>2324731.0</td>\n",
       "      <td>28748.0</td>\n",
       "      <td>98.8702</td>\n",
       "      <td>0.9957</td>\n",
       "      <td>0.04</td>\n",
       "    </tr>\n",
       "    <tr>\n",
       "      <th>2</th>\n",
       "      <td>34</td>\n",
       "      <td>DZA</td>\n",
       "      <td>Algeria</td>\n",
       "      <td>Algiers</td>\n",
       "      <td>Africa</td>\n",
       "      <td>44903225.0</td>\n",
       "      <td>43451666.0</td>\n",
       "      <td>39543154.0</td>\n",
       "      <td>35856344.0</td>\n",
       "      <td>30774621.0</td>\n",
       "      <td>25518074.0</td>\n",
       "      <td>18739378.0</td>\n",
       "      <td>13795915.0</td>\n",
       "      <td>2381741.0</td>\n",
       "      <td>18.8531</td>\n",
       "      <td>1.0164</td>\n",
       "      <td>0.56</td>\n",
       "    </tr>\n",
       "    <tr>\n",
       "      <th>3</th>\n",
       "      <td>213</td>\n",
       "      <td>ASM</td>\n",
       "      <td>American Samoa</td>\n",
       "      <td>Pago Pago</td>\n",
       "      <td>Oceania</td>\n",
       "      <td>44273.0</td>\n",
       "      <td>46189.0</td>\n",
       "      <td>51368.0</td>\n",
       "      <td>54849.0</td>\n",
       "      <td>58230.0</td>\n",
       "      <td>47818.0</td>\n",
       "      <td>32886.0</td>\n",
       "      <td>27075.0</td>\n",
       "      <td>199.0</td>\n",
       "      <td>222.4774</td>\n",
       "      <td>0.9831</td>\n",
       "      <td>0.00</td>\n",
       "    </tr>\n",
       "    <tr>\n",
       "      <th>4</th>\n",
       "      <td>203</td>\n",
       "      <td>AND</td>\n",
       "      <td>Andorra</td>\n",
       "      <td>Andorra la Vella</td>\n",
       "      <td>Europe</td>\n",
       "      <td>79824.0</td>\n",
       "      <td>77700.0</td>\n",
       "      <td>71746.0</td>\n",
       "      <td>71519.0</td>\n",
       "      <td>66097.0</td>\n",
       "      <td>53569.0</td>\n",
       "      <td>35611.0</td>\n",
       "      <td>19860.0</td>\n",
       "      <td>468.0</td>\n",
       "      <td>170.5641</td>\n",
       "      <td>1.0100</td>\n",
       "      <td>0.00</td>\n",
       "    </tr>\n",
       "  </tbody>\n",
       "</table>\n",
       "</div>"
      ],
      "text/plain": [
       "   Rank CCA3         Country           Capital Continent  2022 Population  \\\n",
       "0    36  AFG     Afghanistan             Kabul      Asia       41128771.0   \n",
       "1   138  ALB         Albania            Tirana    Europe        2842321.0   \n",
       "2    34  DZA         Algeria           Algiers    Africa       44903225.0   \n",
       "3   213  ASM  American Samoa         Pago Pago   Oceania          44273.0   \n",
       "4   203  AND         Andorra  Andorra la Vella    Europe          79824.0   \n",
       "\n",
       "   2020 Population  2015 Population  2010 Population  2000 Population  \\\n",
       "0       38972230.0       33753499.0       28189672.0       19542982.0   \n",
       "1        2866849.0        2882481.0        2913399.0        3182021.0   \n",
       "2       43451666.0       39543154.0       35856344.0       30774621.0   \n",
       "3          46189.0          51368.0          54849.0          58230.0   \n",
       "4          77700.0          71746.0          71519.0          66097.0   \n",
       "\n",
       "   1990 Population  1980 Population  1970 Population  Area (km²)  \\\n",
       "0       10694796.0       12486631.0       10752971.0    652230.0   \n",
       "1        3295066.0        2941651.0        2324731.0     28748.0   \n",
       "2       25518074.0       18739378.0       13795915.0   2381741.0   \n",
       "3          47818.0          32886.0          27075.0       199.0   \n",
       "4          53569.0          35611.0          19860.0       468.0   \n",
       "\n",
       "   Density (per km²)  Growth Rate  World Population Percentage  \n",
       "0            63.0587       1.0257                         0.52  \n",
       "1            98.8702       0.9957                         0.04  \n",
       "2            18.8531       1.0164                         0.56  \n",
       "3           222.4774       0.9831                         0.00  \n",
       "4           170.5641       1.0100                         0.00  "
      ]
     },
     "execution_count": 4,
     "metadata": {},
     "output_type": "execute_result"
    }
   ],
   "source": [
    "raw_df.head()"
   ]
  },
  {
   "cell_type": "code",
   "execution_count": 5,
   "id": "1f6cd153",
   "metadata": {},
   "outputs": [
    {
     "name": "stdout",
     "output_type": "stream",
     "text": [
      "<class 'pandas.core.frame.DataFrame'>\n",
      "RangeIndex: 234 entries, 0 to 233\n",
      "Data columns (total 17 columns):\n",
      " #   Column                       Non-Null Count  Dtype  \n",
      "---  ------                       --------------  -----  \n",
      " 0   Rank                         234 non-null    int64  \n",
      " 1   CCA3                         234 non-null    object \n",
      " 2   Country                      234 non-null    object \n",
      " 3   Capital                      234 non-null    object \n",
      " 4   Continent                    234 non-null    object \n",
      " 5   2022 Population              230 non-null    float64\n",
      " 6   2020 Population              233 non-null    float64\n",
      " 7   2015 Population              230 non-null    float64\n",
      " 8   2010 Population              227 non-null    float64\n",
      " 9   2000 Population              227 non-null    float64\n",
      " 10  1990 Population              229 non-null    float64\n",
      " 11  1980 Population              229 non-null    float64\n",
      " 12  1970 Population              230 non-null    float64\n",
      " 13  Area (km²)                   232 non-null    float64\n",
      " 14  Density (per km²)            230 non-null    float64\n",
      " 15  Growth Rate                  232 non-null    float64\n",
      " 16  World Population Percentage  234 non-null    float64\n",
      "dtypes: float64(12), int64(1), object(4)\n",
      "memory usage: 31.2+ KB\n"
     ]
    }
   ],
   "source": [
    "raw_df.info()"
   ]
  },
  {
   "cell_type": "code",
   "execution_count": 6,
   "id": "53daf250",
   "metadata": {},
   "outputs": [
    {
     "data": {
      "application/vnd.microsoft.datawrangler.viewer.v0+json": {
       "columns": [
        {
         "name": "index",
         "rawType": "object",
         "type": "string"
        },
        {
         "name": "Rank",
         "rawType": "float64",
         "type": "float"
        },
        {
         "name": "2022 Population",
         "rawType": "float64",
         "type": "float"
        },
        {
         "name": "2020 Population",
         "rawType": "float64",
         "type": "float"
        },
        {
         "name": "2015 Population",
         "rawType": "float64",
         "type": "float"
        },
        {
         "name": "2010 Population",
         "rawType": "float64",
         "type": "float"
        },
        {
         "name": "2000 Population",
         "rawType": "float64",
         "type": "float"
        },
        {
         "name": "1990 Population",
         "rawType": "float64",
         "type": "float"
        },
        {
         "name": "1980 Population",
         "rawType": "float64",
         "type": "float"
        },
        {
         "name": "1970 Population",
         "rawType": "float64",
         "type": "float"
        },
        {
         "name": "Area (km²)",
         "rawType": "float64",
         "type": "float"
        },
        {
         "name": "Density (per km²)",
         "rawType": "float64",
         "type": "float"
        },
        {
         "name": "Growth Rate",
         "rawType": "float64",
         "type": "float"
        },
        {
         "name": "World Population Percentage",
         "rawType": "float64",
         "type": "float"
        }
       ],
       "conversionMethod": "pd.DataFrame",
       "ref": "f446f3c5-433d-4416-9f93-5d2c46377cfb",
       "rows": [
        [
         "count",
         "234.0",
         "230.0",
         "233.0",
         "230.0",
         "227.0",
         "227.0",
         "229.0",
         "229.0",
         "230.0",
         "232.0",
         "230.0",
         "232.0",
         "234.0"
        ],
        [
         "mean",
         "117.5",
         "34632250.87826087",
         "33600710.9527897",
         "32066004.156521738",
         "30270164.475770924",
         "26840495.25550661",
         "19330463.930131003",
         "16282884.781659389",
         "15866499.126086956",
         "581663.7456896552",
         "456.81165173913047",
         "1.0095534482758621",
         "0.42705128205128207"
        ],
        [
         "std",
         "67.6941651843052",
         "137889172.43696246",
         "135873196.61116022",
         "131507146.33538623",
         "126074183.54282118",
         "113352454.57214543",
         "81309624.9594735",
         "69345465.53990741",
         "68355859.75223555",
         "1769133.0632691428",
         "2083.740363667743",
         "0.013390288081208183",
         "1.7149767768102138"
        ],
        [
         "min",
         "1.0",
         "510.0",
         "520.0",
         "564.0",
         "596.0",
         "651.0",
         "700.0",
         "733.0",
         "752.0",
         "1.0",
         "0.0261",
         "0.912",
         "0.0"
        ],
        [
         "25%",
         "59.25",
         "419738.5",
         "406471.0",
         "394295.0",
         "382726.5",
         "329470.0",
         "261928.0",
         "223752.0",
         "145880.5",
         "2567.25",
         "36.598124999999996",
         "1.001925",
         "0.01"
        ],
        [
         "50%",
         "117.5",
         "5762857.0",
         "5456681.0",
         "5244415.0",
         "4889741.0",
         "4491202.0",
         "3785847.0",
         "3135123.0",
         "2511718.0",
         "77141.0",
         "95.34675",
         "1.0079",
         "0.07"
        ],
        [
         "75%",
         "175.75",
         "22653719.0",
         "21522626.0",
         "19730853.75",
         "16825852.5",
         "15625467.0",
         "11882762.0",
         "9817257.0",
         "8817329.0",
         "414643.25",
         "236.88400000000001",
         "1.0166499999999998",
         "0.28"
        ],
        [
         "max",
         "234.0",
         "1425887337.0",
         "1424929781.0",
         "1393715448.0",
         "1348191368.0",
         "1264099069.0",
         "1153704252.0",
         "982372466.0",
         "822534450.0",
         "17098242.0",
         "23172.2667",
         "1.0691",
         "17.88"
        ]
       ],
       "shape": {
        "columns": 13,
        "rows": 8
       }
      },
      "text/html": [
       "<div>\n",
       "<style scoped>\n",
       "    .dataframe tbody tr th:only-of-type {\n",
       "        vertical-align: middle;\n",
       "    }\n",
       "\n",
       "    .dataframe tbody tr th {\n",
       "        vertical-align: top;\n",
       "    }\n",
       "\n",
       "    .dataframe thead th {\n",
       "        text-align: right;\n",
       "    }\n",
       "</style>\n",
       "<table border=\"1\" class=\"dataframe\">\n",
       "  <thead>\n",
       "    <tr style=\"text-align: right;\">\n",
       "      <th></th>\n",
       "      <th>Rank</th>\n",
       "      <th>2022 Population</th>\n",
       "      <th>2020 Population</th>\n",
       "      <th>2015 Population</th>\n",
       "      <th>2010 Population</th>\n",
       "      <th>2000 Population</th>\n",
       "      <th>1990 Population</th>\n",
       "      <th>1980 Population</th>\n",
       "      <th>1970 Population</th>\n",
       "      <th>Area (km²)</th>\n",
       "      <th>Density (per km²)</th>\n",
       "      <th>Growth Rate</th>\n",
       "      <th>World Population Percentage</th>\n",
       "    </tr>\n",
       "  </thead>\n",
       "  <tbody>\n",
       "    <tr>\n",
       "      <th>count</th>\n",
       "      <td>234.000000</td>\n",
       "      <td>2.300000e+02</td>\n",
       "      <td>2.330000e+02</td>\n",
       "      <td>2.300000e+02</td>\n",
       "      <td>2.270000e+02</td>\n",
       "      <td>2.270000e+02</td>\n",
       "      <td>2.290000e+02</td>\n",
       "      <td>2.290000e+02</td>\n",
       "      <td>2.300000e+02</td>\n",
       "      <td>2.320000e+02</td>\n",
       "      <td>230.000000</td>\n",
       "      <td>232.000000</td>\n",
       "      <td>234.000000</td>\n",
       "    </tr>\n",
       "    <tr>\n",
       "      <th>mean</th>\n",
       "      <td>117.500000</td>\n",
       "      <td>3.463225e+07</td>\n",
       "      <td>3.360071e+07</td>\n",
       "      <td>3.206600e+07</td>\n",
       "      <td>3.027016e+07</td>\n",
       "      <td>2.684050e+07</td>\n",
       "      <td>1.933046e+07</td>\n",
       "      <td>1.628288e+07</td>\n",
       "      <td>1.586650e+07</td>\n",
       "      <td>5.816637e+05</td>\n",
       "      <td>456.811652</td>\n",
       "      <td>1.009553</td>\n",
       "      <td>0.427051</td>\n",
       "    </tr>\n",
       "    <tr>\n",
       "      <th>std</th>\n",
       "      <td>67.694165</td>\n",
       "      <td>1.378892e+08</td>\n",
       "      <td>1.358732e+08</td>\n",
       "      <td>1.315071e+08</td>\n",
       "      <td>1.260742e+08</td>\n",
       "      <td>1.133525e+08</td>\n",
       "      <td>8.130962e+07</td>\n",
       "      <td>6.934547e+07</td>\n",
       "      <td>6.835586e+07</td>\n",
       "      <td>1.769133e+06</td>\n",
       "      <td>2083.740364</td>\n",
       "      <td>0.013390</td>\n",
       "      <td>1.714977</td>\n",
       "    </tr>\n",
       "    <tr>\n",
       "      <th>min</th>\n",
       "      <td>1.000000</td>\n",
       "      <td>5.100000e+02</td>\n",
       "      <td>5.200000e+02</td>\n",
       "      <td>5.640000e+02</td>\n",
       "      <td>5.960000e+02</td>\n",
       "      <td>6.510000e+02</td>\n",
       "      <td>7.000000e+02</td>\n",
       "      <td>7.330000e+02</td>\n",
       "      <td>7.520000e+02</td>\n",
       "      <td>1.000000e+00</td>\n",
       "      <td>0.026100</td>\n",
       "      <td>0.912000</td>\n",
       "      <td>0.000000</td>\n",
       "    </tr>\n",
       "    <tr>\n",
       "      <th>25%</th>\n",
       "      <td>59.250000</td>\n",
       "      <td>4.197385e+05</td>\n",
       "      <td>4.064710e+05</td>\n",
       "      <td>3.942950e+05</td>\n",
       "      <td>3.827265e+05</td>\n",
       "      <td>3.294700e+05</td>\n",
       "      <td>2.619280e+05</td>\n",
       "      <td>2.237520e+05</td>\n",
       "      <td>1.458805e+05</td>\n",
       "      <td>2.567250e+03</td>\n",
       "      <td>36.598125</td>\n",
       "      <td>1.001925</td>\n",
       "      <td>0.010000</td>\n",
       "    </tr>\n",
       "    <tr>\n",
       "      <th>50%</th>\n",
       "      <td>117.500000</td>\n",
       "      <td>5.762857e+06</td>\n",
       "      <td>5.456681e+06</td>\n",
       "      <td>5.244415e+06</td>\n",
       "      <td>4.889741e+06</td>\n",
       "      <td>4.491202e+06</td>\n",
       "      <td>3.785847e+06</td>\n",
       "      <td>3.135123e+06</td>\n",
       "      <td>2.511718e+06</td>\n",
       "      <td>7.714100e+04</td>\n",
       "      <td>95.346750</td>\n",
       "      <td>1.007900</td>\n",
       "      <td>0.070000</td>\n",
       "    </tr>\n",
       "    <tr>\n",
       "      <th>75%</th>\n",
       "      <td>175.750000</td>\n",
       "      <td>2.265372e+07</td>\n",
       "      <td>2.152263e+07</td>\n",
       "      <td>1.973085e+07</td>\n",
       "      <td>1.682585e+07</td>\n",
       "      <td>1.562547e+07</td>\n",
       "      <td>1.188276e+07</td>\n",
       "      <td>9.817257e+06</td>\n",
       "      <td>8.817329e+06</td>\n",
       "      <td>4.146432e+05</td>\n",
       "      <td>236.884000</td>\n",
       "      <td>1.016650</td>\n",
       "      <td>0.280000</td>\n",
       "    </tr>\n",
       "    <tr>\n",
       "      <th>max</th>\n",
       "      <td>234.000000</td>\n",
       "      <td>1.425887e+09</td>\n",
       "      <td>1.424930e+09</td>\n",
       "      <td>1.393715e+09</td>\n",
       "      <td>1.348191e+09</td>\n",
       "      <td>1.264099e+09</td>\n",
       "      <td>1.153704e+09</td>\n",
       "      <td>9.823725e+08</td>\n",
       "      <td>8.225344e+08</td>\n",
       "      <td>1.709824e+07</td>\n",
       "      <td>23172.266700</td>\n",
       "      <td>1.069100</td>\n",
       "      <td>17.880000</td>\n",
       "    </tr>\n",
       "  </tbody>\n",
       "</table>\n",
       "</div>"
      ],
      "text/plain": [
       "             Rank  2022 Population  2020 Population  2015 Population  \\\n",
       "count  234.000000     2.300000e+02     2.330000e+02     2.300000e+02   \n",
       "mean   117.500000     3.463225e+07     3.360071e+07     3.206600e+07   \n",
       "std     67.694165     1.378892e+08     1.358732e+08     1.315071e+08   \n",
       "min      1.000000     5.100000e+02     5.200000e+02     5.640000e+02   \n",
       "25%     59.250000     4.197385e+05     4.064710e+05     3.942950e+05   \n",
       "50%    117.500000     5.762857e+06     5.456681e+06     5.244415e+06   \n",
       "75%    175.750000     2.265372e+07     2.152263e+07     1.973085e+07   \n",
       "max    234.000000     1.425887e+09     1.424930e+09     1.393715e+09   \n",
       "\n",
       "       2010 Population  2000 Population  1990 Population  1980 Population  \\\n",
       "count     2.270000e+02     2.270000e+02     2.290000e+02     2.290000e+02   \n",
       "mean      3.027016e+07     2.684050e+07     1.933046e+07     1.628288e+07   \n",
       "std       1.260742e+08     1.133525e+08     8.130962e+07     6.934547e+07   \n",
       "min       5.960000e+02     6.510000e+02     7.000000e+02     7.330000e+02   \n",
       "25%       3.827265e+05     3.294700e+05     2.619280e+05     2.237520e+05   \n",
       "50%       4.889741e+06     4.491202e+06     3.785847e+06     3.135123e+06   \n",
       "75%       1.682585e+07     1.562547e+07     1.188276e+07     9.817257e+06   \n",
       "max       1.348191e+09     1.264099e+09     1.153704e+09     9.823725e+08   \n",
       "\n",
       "       1970 Population    Area (km²)  Density (per km²)  Growth Rate  \\\n",
       "count     2.300000e+02  2.320000e+02         230.000000   232.000000   \n",
       "mean      1.586650e+07  5.816637e+05         456.811652     1.009553   \n",
       "std       6.835586e+07  1.769133e+06        2083.740364     0.013390   \n",
       "min       7.520000e+02  1.000000e+00           0.026100     0.912000   \n",
       "25%       1.458805e+05  2.567250e+03          36.598125     1.001925   \n",
       "50%       2.511718e+06  7.714100e+04          95.346750     1.007900   \n",
       "75%       8.817329e+06  4.146432e+05         236.884000     1.016650   \n",
       "max       8.225344e+08  1.709824e+07       23172.266700     1.069100   \n",
       "\n",
       "       World Population Percentage  \n",
       "count                   234.000000  \n",
       "mean                      0.427051  \n",
       "std                       1.714977  \n",
       "min                       0.000000  \n",
       "25%                       0.010000  \n",
       "50%                       0.070000  \n",
       "75%                       0.280000  \n",
       "max                      17.880000  "
      ]
     },
     "execution_count": 6,
     "metadata": {},
     "output_type": "execute_result"
    }
   ],
   "source": [
    "raw_df.describe()"
   ]
  },
  {
   "cell_type": "code",
   "execution_count": 7,
   "id": "05273cfd",
   "metadata": {},
   "outputs": [
    {
     "data": {
      "text/plain": [
       "Index(['Rank', 'CCA3', 'Country', 'Capital', 'Continent', '2022 Population',\n",
       "       '2020 Population', '2015 Population', '2010 Population',\n",
       "       '2000 Population', '1990 Population', '1980 Population',\n",
       "       '1970 Population', 'Area (km²)', 'Density (per km²)', 'Growth Rate',\n",
       "       'World Population Percentage'],\n",
       "      dtype='object')"
      ]
     },
     "execution_count": 7,
     "metadata": {},
     "output_type": "execute_result"
    }
   ],
   "source": [
    "raw_df.columns\n"
   ]
  },
  {
   "cell_type": "code",
   "execution_count": 8,
   "id": "4afa5e50",
   "metadata": {},
   "outputs": [
    {
     "data": {
      "text/plain": [
       "RangeIndex(start=0, stop=234, step=1)"
      ]
     },
     "execution_count": 8,
     "metadata": {},
     "output_type": "execute_result"
    }
   ],
   "source": [
    "raw_df.index"
   ]
  },
  {
   "cell_type": "code",
   "execution_count": 9,
   "id": "ea8dca37",
   "metadata": {},
   "outputs": [
    {
     "data": {
      "text/plain": [
       "(234, 17)"
      ]
     },
     "execution_count": 9,
     "metadata": {},
     "output_type": "execute_result"
    }
   ],
   "source": [
    "raw_df.shape"
   ]
  },
  {
   "cell_type": "code",
   "execution_count": 10,
   "id": "4aecbd97",
   "metadata": {},
   "outputs": [
    {
     "data": {
      "text/plain": [
       "Rank                           234\n",
       "CCA3                           234\n",
       "Country                        234\n",
       "Capital                        234\n",
       "Continent                        6\n",
       "2022 Population                230\n",
       "2020 Population                233\n",
       "2015 Population                230\n",
       "2010 Population                227\n",
       "2000 Population                227\n",
       "1990 Population                229\n",
       "1980 Population                229\n",
       "1970 Population                230\n",
       "Area (km²)                     231\n",
       "Density (per km²)              230\n",
       "Growth Rate                    178\n",
       "World Population Percentage     70\n",
       "dtype: int64"
      ]
     },
     "execution_count": 10,
     "metadata": {},
     "output_type": "execute_result"
    }
   ],
   "source": [
    "raw_df.nunique()"
   ]
  },
  {
   "cell_type": "code",
   "execution_count": 11,
   "id": "91078ecb",
   "metadata": {},
   "outputs": [
    {
     "data": {
      "text/plain": [
       "Rank                           0\n",
       "CCA3                           0\n",
       "Country                        0\n",
       "Capital                        0\n",
       "Continent                      0\n",
       "2022 Population                4\n",
       "2020 Population                1\n",
       "2015 Population                4\n",
       "2010 Population                7\n",
       "2000 Population                7\n",
       "1990 Population                5\n",
       "1980 Population                5\n",
       "1970 Population                4\n",
       "Area (km²)                     2\n",
       "Density (per km²)              4\n",
       "Growth Rate                    2\n",
       "World Population Percentage    0\n",
       "dtype: int64"
      ]
     },
     "execution_count": 11,
     "metadata": {},
     "output_type": "execute_result"
    }
   ],
   "source": [
    "raw_df.isnull().sum()"
   ]
  },
  {
   "cell_type": "code",
   "execution_count": 12,
   "id": "8d114c71",
   "metadata": {},
   "outputs": [
    {
     "data": {
      "text/plain": [
       "np.int64(45)"
      ]
     },
     "execution_count": 12,
     "metadata": {},
     "output_type": "execute_result"
    }
   ],
   "source": [
    "raw_df.isnull().sum().sum()"
   ]
  },
  {
   "cell_type": "markdown",
   "id": "0a0964b7",
   "metadata": {},
   "source": [
    "To gain a better understanding of the dataset, several basic exploratory data analysis techniques were employed. The results are as follows: <br>\n",
    "- Data Preview: The head() method was used to display the first few rows of the dataset, providing insight into the structure and content of the data.\n",
    "- Data Information: The info() method was utilized to retrieve information about the dataset, including the index dtype and column dtypes, non-null values, and memory usage.\n",
    "- Summary Statistics: The describe() method was applied to generate summary statistics for the dataset, including measures of central tendency and variability.\n",
    "- Column Names: The columns attribute was used to retrieve the list of column names in the dataset.\n",
    "- Index Inspection: The index attribute was examined to understand the index structure and data type.\n",
    "- Dataset Dimensions: The shape attribute was used to determine the number of rows and columns in the dataset.\n",
    "- Missing Values: The isnull().sum() method was applied to identify the number of missing values in each column, helping to assess data quality.\n",
    "- Unique Values: The nunique() method was used to determine the number of unique values in each column, providing insight into data variability.  \n",
    "\n",
    "These initial steps helped to identify the data types, missing values, and distribution of values in the dataset, laying the groundwork for further analysis."
   ]
  },
  {
   "cell_type": "markdown",
   "id": "da93e32d",
   "metadata": {},
   "source": [
    "### Key Findings from Initial Exploration\n",
    "The initial exploratory data analysis revealed several key insights about the dataset:\n",
    "- Dataset Dimensions: The dataset consists of 234 rows and 17 columns.\n",
    "- Data Types: The dataset contains 12 float data types, 1 integer data type, and 4 object data types.\n",
    "- Missing Values: A total of 45 missing values were identified across the dataset.\n",
    "- Population Trends: Summary statistics provided insights into population trends, including:\n",
    "- Mean population over the years\n",
    "- Maximum population recorded during the time period (1970-2022)\n",
    "- Minimum population recorded during the time period (1970-2022)\n",
    "\n",
    "These findings provide a solid foundation for further analysis and data cleaning. The presence of missing values will need to be addressed to ensure accurate and reliable results."
   ]
  },
  {
   "cell_type": "code",
   "execution_count": 13,
   "id": "1e683a07",
   "metadata": {},
   "outputs": [],
   "source": [
    "corr_data = raw_df.select_dtypes(include=['int64','float64']).corr()"
   ]
  },
  {
   "cell_type": "code",
   "execution_count": 14,
   "id": "93a04266",
   "metadata": {},
   "outputs": [
    {
     "data": {
      "image/png": "[encoded data removed]",
      "text/plain": [
       "<Figure size 1000x800 with 2 Axes>"
      ]
     },
     "metadata": {},
     "output_type": "display_data"
    }
   ],
   "source": [
    "plt.subplots(figsize=(10, 8))\n",
    "sns.heatmap(corr_data, annot = True, fmt = '.2f', cmap='coolwarm', center=0)\n",
    "plt.show()"
   ]
  },
  {
   "cell_type": "markdown",
   "id": "dd63d07c",
   "metadata": {},
   "source": [
    "# Correlation Analysis\n",
    "A correlation plot is generated to identify relationships between variables in the dataset. The analysis revealed the following key findings:\n",
    "- Population Trends: The population of previous years showed a high correlation with the population of the preceding year, indicating a strong continuity in population trends over time.\n",
    "- Geographical Factors: The area of the country exhibited a notable correlation with population-related variables, suggesting that larger countries tend to have larger populations.\n",
    "- Growth Rate and Global Population Share: The growth rate showed a negative correlation with the world population percentage, implying that countries with higher growth rates tend to have a smaller share of the global population.\n",
    "\n",
    "These findings provide valuable insights into the relationships between variables in the dataset and can inform further analysis and modeling efforts.\n",
    "\n",
    "- Population: Strong positive correlation across all years (1970-2022).\n",
    "- Area: Moderate positive correlation with population.\n",
    "- Rank: Weak negative correlation with population & area.\n",
    "- Density: Weak negative correlation with population & area; near-zero with growth rate.\n",
    "- Growth Rate: Near-zero correlation with area.\n",
    "- World Population Percentage: Strongly correlated with population.\n",
    "\n",
    "Key Takeaways:\n",
    "* Population size is relatively stable over time.\n",
    "* Larger countries tend to have larger populations.\n",
    "* Density and growth rate are weakly related to other variables."
   ]
  },
  {
   "cell_type": "markdown",
   "id": "e9caceae",
   "metadata": {},
   "source": [
    "# Handling Missing Values"
   ]
  },
  {
   "cell_type": "code",
   "execution_count": 15,
   "id": "91aa4c67",
   "metadata": {},
   "outputs": [],
   "source": [
    "def impute_population_exponential(df, population_cols, growth_rate_col):\n",
    "    \"\"\"Imputes missing population values using exponential growth rate.\"\"\"\n",
    "    df = df.copy() #to prevent changes to original dataframe.\n",
    "    for i in range(1, len(df)):\n",
    "        for population_col in population_cols:\n",
    "            if pd.isna(df.loc[i, population_col]):\n",
    "                previous_population = df.loc[i - 1, population_col]\n",
    "                growth_rate = df.loc[i, growth_rate_col]\n",
    "                if not np.isnan(previous_population) and not np.isnan(growth_rate):\n",
    "                    df.loc[i, population_col] = previous_population * (1 + growth_rate)\n",
    "    return df"
   ]
  },
  {
   "cell_type": "markdown",
   "id": "366d99cc",
   "metadata": {},
   "source": [
    "To address the missing population values in the dataset, a custom function impute_population_exponential was developed. This function utilizes an exponential imputation approach to estimate missing population values based on the available data."
   ]
  },
  {
   "cell_type": "code",
   "execution_count": 16,
   "id": "31a70814",
   "metadata": {},
   "outputs": [],
   "source": [
    "population_cols = ['2022 Population',\n",
    "       '2020 Population', '2015 Population', '2010 Population',\n",
    "       '2000 Population', '1990 Population', '1980 Population',\n",
    "       '1970 Population']"
   ]
  },
  {
   "cell_type": "code",
   "execution_count": 17,
   "id": "373fd0cb",
   "metadata": {},
   "outputs": [],
   "source": [
    "raw_df = impute_population_exponential(raw_df, population_cols, 'Growth Rate')"
   ]
  },
  {
   "cell_type": "code",
   "execution_count": 18,
   "id": "4545a5b0",
   "metadata": {},
   "outputs": [
    {
     "data": {
      "text/plain": [
       "Rank                           0\n",
       "CCA3                           0\n",
       "Country                        0\n",
       "Capital                        0\n",
       "Continent                      0\n",
       "2022 Population                0\n",
       "2020 Population                0\n",
       "2015 Population                0\n",
       "2010 Population                0\n",
       "2000 Population                0\n",
       "1990 Population                0\n",
       "1980 Population                0\n",
       "1970 Population                0\n",
       "Area (km²)                     2\n",
       "Density (per km²)              4\n",
       "Growth Rate                    2\n",
       "World Population Percentage    0\n",
       "dtype: int64"
      ]
     },
     "execution_count": 18,
     "metadata": {},
     "output_type": "execute_result"
    }
   ],
   "source": [
    "raw_df.isnull().sum()"
   ]
  },
  {
   "cell_type": "code",
   "execution_count": 19,
   "id": "b5e8546b",
   "metadata": {},
   "outputs": [],
   "source": [
    "def growth_rate(df):\n",
    "    df = df.copy()\n",
    "    for i in range(1, len(df)):\n",
    "        if pd.isna(df.loc[i, 'Growth Rate']):\n",
    "            start_population = df.loc[i, '1970 Population']\n",
    "            current_population = df.loc[i, '2022 Population']\n",
    "            if not np.isnan(start_population) and not np.isnan(current_population):\n",
    "                df.loc[i, 'Growth Rate'] = (current_population - start_population) / start_population * 100\n",
    "    return df"
   ]
  },
  {
   "cell_type": "markdown",
   "id": "ebb6b75d",
   "metadata": {},
   "source": [
    "To calculate the growth rate, a custom function growth_rate was developed. This function takes the current population and start population as inputs and calculates the growth rate using the following formula: <br>\n",
    "Growth Rate = ((Current Population - Start Population) / Start Population) × 100"
   ]
  },
  {
   "cell_type": "code",
   "execution_count": 20,
   "id": "2cf3006e",
   "metadata": {},
   "outputs": [],
   "source": [
    "raw_df = growth_rate(raw_df)"
   ]
  },
  {
   "cell_type": "code",
   "execution_count": 21,
   "id": "6cb85e63",
   "metadata": {},
   "outputs": [
    {
     "data": {
      "text/plain": [
       "Rank                           0\n",
       "CCA3                           0\n",
       "Country                        0\n",
       "Capital                        0\n",
       "Continent                      0\n",
       "2022 Population                0\n",
       "2020 Population                0\n",
       "2015 Population                0\n",
       "2010 Population                0\n",
       "2000 Population                0\n",
       "1990 Population                0\n",
       "1980 Population                0\n",
       "1970 Population                0\n",
       "Area (km²)                     2\n",
       "Density (per km²)              4\n",
       "Growth Rate                    0\n",
       "World Population Percentage    0\n",
       "dtype: int64"
      ]
     },
     "execution_count": 21,
     "metadata": {},
     "output_type": "execute_result"
    }
   ],
   "source": [
    "raw_df.isnull().sum()"
   ]
  },
  {
   "cell_type": "code",
   "execution_count": 22,
   "id": "28b3ca7b",
   "metadata": {},
   "outputs": [],
   "source": [
    "missing_data = raw_df[raw_df.isnull().any(axis=1)]  "
   ]
  },
  {
   "cell_type": "code",
   "execution_count": 23,
   "id": "69c9307d",
   "metadata": {},
   "outputs": [
    {
     "data": {
      "application/vnd.microsoft.datawrangler.viewer.v0+json": {
       "columns": [
        {
         "name": "index",
         "rawType": "int64",
         "type": "integer"
        },
        {
         "name": "Rank",
         "rawType": "int64",
         "type": "integer"
        },
        {
         "name": "CCA3",
         "rawType": "object",
         "type": "string"
        },
        {
         "name": "Country",
         "rawType": "object",
         "type": "string"
        },
        {
         "name": "Capital",
         "rawType": "object",
         "type": "string"
        },
        {
         "name": "Continent",
         "rawType": "object",
         "type": "string"
        },
        {
         "name": "2022 Population",
         "rawType": "float64",
         "type": "float"
        },
        {
         "name": "2020 Population",
         "rawType": "float64",
         "type": "float"
        },
        {
         "name": "2015 Population",
         "rawType": "float64",
         "type": "float"
        },
        {
         "name": "2010 Population",
         "rawType": "float64",
         "type": "float"
        },
        {
         "name": "2000 Population",
         "rawType": "float64",
         "type": "float"
        },
        {
         "name": "1990 Population",
         "rawType": "float64",
         "type": "float"
        },
        {
         "name": "1980 Population",
         "rawType": "float64",
         "type": "float"
        },
        {
         "name": "1970 Population",
         "rawType": "float64",
         "type": "float"
        },
        {
         "name": "Area (km²)",
         "rawType": "float64",
         "type": "float"
        },
        {
         "name": "Density (per km²)",
         "rawType": "float64",
         "type": "float"
        },
        {
         "name": "Growth Rate",
         "rawType": "float64",
         "type": "float"
        },
        {
         "name": "World Population Percentage",
         "rawType": "float64",
         "type": "float"
        }
       ],
       "conversionMethod": "pd.DataFrame",
       "ref": "a89340f2-31c1-46df-9de4-17e6d19d74ca",
       "rows": [
        [
         "100",
         "52",
         "CIV",
         "Ivory Coast",
         "Yamoussoukro",
         "Africa",
         "28160542.0",
         "26811790.0",
         "23596741.0",
         "21120042.0",
         "16799670.0",
         "11910540.0",
         "8303809.0",
         "5477086.0",
         "322463.0",
         null,
         "414.1519048632795",
         "0.35"
        ],
        [
         "101",
         "139",
         "JAM",
         "Jamaica",
         "Kingston",
         "North America",
         "2827377.0",
         "2820436.0",
         "2794445.0",
         "2733896.0",
         "2612205.0",
         "2392030.0",
         "2135546.0",
         "1859091.0",
         "10991.0",
         null,
         "52.08384097389531",
         "0.04"
        ],
        [
         "183",
         "72",
         "SEN",
         "Senegal",
         "Dakar",
         "Africa",
         "17316449.0",
         "16436119.0",
         "14356181.0",
         "12530121.0",
         "9704287.0",
         "7536001.0",
         "5703869.0",
         "4367744.0",
         null,
         null,
         "1.0261",
         "0.22"
        ],
        [
         "211",
         "153",
         "TTO",
         "Trinidad and Tobago",
         "Port-of-Spain",
         "North America",
         "1531044.0",
         "1518147.0",
         "1460177.0",
         "1410296.0",
         "1332203.0",
         "1266518.0",
         "1127852.0",
         "988890.0",
         "5130.0",
         null,
         "1.0035",
         "0.02"
        ],
        [
         "227",
         "51",
         "VEN",
         "Venezuela",
         "Caracas",
         "South America",
         "28301696.0",
         "28490453.0",
         "30529716.0",
         "28715022.0",
         "1304.3436",
         "19750579.0",
         "15210443.0",
         "11355475.0",
         null,
         "30.882",
         "1.0036",
         "0.35"
        ]
       ],
       "shape": {
        "columns": 17,
        "rows": 5
       }
      },
      "text/html": [
       "<div>\n",
       "<style scoped>\n",
       "    .dataframe tbody tr th:only-of-type {\n",
       "        vertical-align: middle;\n",
       "    }\n",
       "\n",
       "    .dataframe tbody tr th {\n",
       "        vertical-align: top;\n",
       "    }\n",
       "\n",
       "    .dataframe thead th {\n",
       "        text-align: right;\n",
       "    }\n",
       "</style>\n",
       "<table border=\"1\" class=\"dataframe\">\n",
       "  <thead>\n",
       "    <tr style=\"text-align: right;\">\n",
       "      <th></th>\n",
       "      <th>Rank</th>\n",
       "      <th>CCA3</th>\n",
       "      <th>Country</th>\n",
       "      <th>Capital</th>\n",
       "      <th>Continent</th>\n",
       "      <th>2022 Population</th>\n",
       "      <th>2020 Population</th>\n",
       "      <th>2015 Population</th>\n",
       "      <th>2010 Population</th>\n",
       "      <th>2000 Population</th>\n",
       "      <th>1990 Population</th>\n",
       "      <th>1980 Population</th>\n",
       "      <th>1970 Population</th>\n",
       "      <th>Area (km²)</th>\n",
       "      <th>Density (per km²)</th>\n",
       "      <th>Growth Rate</th>\n",
       "      <th>World Population Percentage</th>\n",
       "    </tr>\n",
       "  </thead>\n",
       "  <tbody>\n",
       "    <tr>\n",
       "      <th>100</th>\n",
       "      <td>52</td>\n",
       "      <td>CIV</td>\n",
       "      <td>Ivory Coast</td>\n",
       "      <td>Yamoussoukro</td>\n",
       "      <td>Africa</td>\n",
       "      <td>28160542.0</td>\n",
       "      <td>26811790.0</td>\n",
       "      <td>23596741.0</td>\n",
       "      <td>21120042.0</td>\n",
       "      <td>1.679967e+07</td>\n",
       "      <td>11910540.0</td>\n",
       "      <td>8303809.0</td>\n",
       "      <td>5477086.0</td>\n",
       "      <td>322463.0</td>\n",
       "      <td>NaN</td>\n",
       "      <td>414.151905</td>\n",
       "      <td>0.35</td>\n",
       "    </tr>\n",
       "    <tr>\n",
       "      <th>101</th>\n",
       "      <td>139</td>\n",
       "      <td>JAM</td>\n",
       "      <td>Jamaica</td>\n",
       "      <td>Kingston</td>\n",
       "      <td>North America</td>\n",
       "      <td>2827377.0</td>\n",
       "      <td>2820436.0</td>\n",
       "      <td>2794445.0</td>\n",
       "      <td>2733896.0</td>\n",
       "      <td>2.612205e+06</td>\n",
       "      <td>2392030.0</td>\n",
       "      <td>2135546.0</td>\n",
       "      <td>1859091.0</td>\n",
       "      <td>10991.0</td>\n",
       "      <td>NaN</td>\n",
       "      <td>52.083841</td>\n",
       "      <td>0.04</td>\n",
       "    </tr>\n",
       "    <tr>\n",
       "      <th>183</th>\n",
       "      <td>72</td>\n",
       "      <td>SEN</td>\n",
       "      <td>Senegal</td>\n",
       "      <td>Dakar</td>\n",
       "      <td>Africa</td>\n",
       "      <td>17316449.0</td>\n",
       "      <td>16436119.0</td>\n",
       "      <td>14356181.0</td>\n",
       "      <td>12530121.0</td>\n",
       "      <td>9.704287e+06</td>\n",
       "      <td>7536001.0</td>\n",
       "      <td>5703869.0</td>\n",
       "      <td>4367744.0</td>\n",
       "      <td>NaN</td>\n",
       "      <td>NaN</td>\n",
       "      <td>1.026100</td>\n",
       "      <td>0.22</td>\n",
       "    </tr>\n",
       "    <tr>\n",
       "      <th>211</th>\n",
       "      <td>153</td>\n",
       "      <td>TTO</td>\n",
       "      <td>Trinidad and Tobago</td>\n",
       "      <td>Port-of-Spain</td>\n",
       "      <td>North America</td>\n",
       "      <td>1531044.0</td>\n",
       "      <td>1518147.0</td>\n",
       "      <td>1460177.0</td>\n",
       "      <td>1410296.0</td>\n",
       "      <td>1.332203e+06</td>\n",
       "      <td>1266518.0</td>\n",
       "      <td>1127852.0</td>\n",
       "      <td>988890.0</td>\n",
       "      <td>5130.0</td>\n",
       "      <td>NaN</td>\n",
       "      <td>1.003500</td>\n",
       "      <td>0.02</td>\n",
       "    </tr>\n",
       "    <tr>\n",
       "      <th>227</th>\n",
       "      <td>51</td>\n",
       "      <td>VEN</td>\n",
       "      <td>Venezuela</td>\n",
       "      <td>Caracas</td>\n",
       "      <td>South America</td>\n",
       "      <td>28301696.0</td>\n",
       "      <td>28490453.0</td>\n",
       "      <td>30529716.0</td>\n",
       "      <td>28715022.0</td>\n",
       "      <td>1.304344e+03</td>\n",
       "      <td>19750579.0</td>\n",
       "      <td>15210443.0</td>\n",
       "      <td>11355475.0</td>\n",
       "      <td>NaN</td>\n",
       "      <td>30.882</td>\n",
       "      <td>1.003600</td>\n",
       "      <td>0.35</td>\n",
       "    </tr>\n",
       "  </tbody>\n",
       "</table>\n",
       "</div>"
      ],
      "text/plain": [
       "     Rank CCA3              Country        Capital      Continent  \\\n",
       "100    52  CIV          Ivory Coast   Yamoussoukro         Africa   \n",
       "101   139  JAM              Jamaica       Kingston  North America   \n",
       "183    72  SEN              Senegal          Dakar         Africa   \n",
       "211   153  TTO  Trinidad and Tobago  Port-of-Spain  North America   \n",
       "227    51  VEN            Venezuela        Caracas  South America   \n",
       "\n",
       "     2022 Population  2020 Population  2015 Population  2010 Population  \\\n",
       "100       28160542.0       26811790.0       23596741.0       21120042.0   \n",
       "101        2827377.0        2820436.0        2794445.0        2733896.0   \n",
       "183       17316449.0       16436119.0       14356181.0       12530121.0   \n",
       "211        1531044.0        1518147.0        1460177.0        1410296.0   \n",
       "227       28301696.0       28490453.0       30529716.0       28715022.0   \n",
       "\n",
       "     2000 Population  1990 Population  1980 Population  1970 Population  \\\n",
       "100     1.679967e+07       11910540.0        8303809.0        5477086.0   \n",
       "101     2.612205e+06        2392030.0        2135546.0        1859091.0   \n",
       "183     9.704287e+06        7536001.0        5703869.0        4367744.0   \n",
       "211     1.332203e+06        1266518.0        1127852.0         988890.0   \n",
       "227     1.304344e+03       19750579.0       15210443.0       11355475.0   \n",
       "\n",
       "     Area (km²)  Density (per km²)  Growth Rate  World Population Percentage  \n",
       "100    322463.0                NaN   414.151905                         0.35  \n",
       "101     10991.0                NaN    52.083841                         0.04  \n",
       "183         NaN                NaN     1.026100                         0.22  \n",
       "211      5130.0                NaN     1.003500                         0.02  \n",
       "227         NaN             30.882     1.003600                         0.35  "
      ]
     },
     "execution_count": 23,
     "metadata": {},
     "output_type": "execute_result"
    }
   ],
   "source": [
    "missing_data"
   ]
  },
  {
   "cell_type": "code",
   "execution_count": 24,
   "id": "e8e5e72d",
   "metadata": {},
   "outputs": [],
   "source": [
    "raw_df.loc[183, 'Area (km²)'] = 196722.0\n",
    "raw_df.loc[227, 'Area (km²)'] = 912050.0"
   ]
  },
  {
   "cell_type": "markdown",
   "id": "8251c691",
   "metadata": {},
   "source": [
    "For the missing area values, manual imputation was performed by researching and gathering accurate information from reliable online sources. The verified values were then used to fill in the missing data, ensuring the integrity and accuracy of the dataset."
   ]
  },
  {
   "cell_type": "code",
   "execution_count": 25,
   "id": "8bbb7636",
   "metadata": {},
   "outputs": [
    {
     "data": {
      "text/plain": [
       "Rank                           0\n",
       "CCA3                           0\n",
       "Country                        0\n",
       "Capital                        0\n",
       "Continent                      0\n",
       "2022 Population                0\n",
       "2020 Population                0\n",
       "2015 Population                0\n",
       "2010 Population                0\n",
       "2000 Population                0\n",
       "1990 Population                0\n",
       "1980 Population                0\n",
       "1970 Population                0\n",
       "Area (km²)                     0\n",
       "Density (per km²)              4\n",
       "Growth Rate                    0\n",
       "World Population Percentage    0\n",
       "dtype: int64"
      ]
     },
     "execution_count": 25,
     "metadata": {},
     "output_type": "execute_result"
    }
   ],
   "source": [
    "raw_df.isnull().sum()  "
   ]
  },
  {
   "cell_type": "code",
   "execution_count": 26,
   "id": "8182e158",
   "metadata": {},
   "outputs": [],
   "source": [
    "missing_data = raw_df[raw_df.isnull().any(axis=1)]"
   ]
  },
  {
   "cell_type": "code",
   "execution_count": 27,
   "id": "4a97e209",
   "metadata": {},
   "outputs": [
    {
     "data": {
      "application/vnd.microsoft.datawrangler.viewer.v0+json": {
       "columns": [
        {
         "name": "index",
         "rawType": "int64",
         "type": "integer"
        },
        {
         "name": "Rank",
         "rawType": "int64",
         "type": "integer"
        },
        {
         "name": "CCA3",
         "rawType": "object",
         "type": "string"
        },
        {
         "name": "Country",
         "rawType": "object",
         "type": "string"
        },
        {
         "name": "Capital",
         "rawType": "object",
         "type": "string"
        },
        {
         "name": "Continent",
         "rawType": "object",
         "type": "string"
        },
        {
         "name": "2022 Population",
         "rawType": "float64",
         "type": "float"
        },
        {
         "name": "2020 Population",
         "rawType": "float64",
         "type": "float"
        },
        {
         "name": "2015 Population",
         "rawType": "float64",
         "type": "float"
        },
        {
         "name": "2010 Population",
         "rawType": "float64",
         "type": "float"
        },
        {
         "name": "2000 Population",
         "rawType": "float64",
         "type": "float"
        },
        {
         "name": "1990 Population",
         "rawType": "float64",
         "type": "float"
        },
        {
         "name": "1980 Population",
         "rawType": "float64",
         "type": "float"
        },
        {
         "name": "1970 Population",
         "rawType": "float64",
         "type": "float"
        },
        {
         "name": "Area (km²)",
         "rawType": "float64",
         "type": "float"
        },
        {
         "name": "Density (per km²)",
         "rawType": "float64",
         "type": "float"
        },
        {
         "name": "Growth Rate",
         "rawType": "float64",
         "type": "float"
        },
        {
         "name": "World Population Percentage",
         "rawType": "float64",
         "type": "float"
        }
       ],
       "conversionMethod": "pd.DataFrame",
       "ref": "f7e292e4-755b-47e1-a1d1-9618186dccdf",
       "rows": [
        [
         "100",
         "52",
         "CIV",
         "Ivory Coast",
         "Yamoussoukro",
         "Africa",
         "28160542.0",
         "26811790.0",
         "23596741.0",
         "21120042.0",
         "16799670.0",
         "11910540.0",
         "8303809.0",
         "5477086.0",
         "322463.0",
         null,
         "414.1519048632795",
         "0.35"
        ],
        [
         "101",
         "139",
         "JAM",
         "Jamaica",
         "Kingston",
         "North America",
         "2827377.0",
         "2820436.0",
         "2794445.0",
         "2733896.0",
         "2612205.0",
         "2392030.0",
         "2135546.0",
         "1859091.0",
         "10991.0",
         null,
         "52.08384097389531",
         "0.04"
        ],
        [
         "183",
         "72",
         "SEN",
         "Senegal",
         "Dakar",
         "Africa",
         "17316449.0",
         "16436119.0",
         "14356181.0",
         "12530121.0",
         "9704287.0",
         "7536001.0",
         "5703869.0",
         "4367744.0",
         "196722.0",
         null,
         "1.0261",
         "0.22"
        ],
        [
         "211",
         "153",
         "TTO",
         "Trinidad and Tobago",
         "Port-of-Spain",
         "North America",
         "1531044.0",
         "1518147.0",
         "1460177.0",
         "1410296.0",
         "1332203.0",
         "1266518.0",
         "1127852.0",
         "988890.0",
         "5130.0",
         null,
         "1.0035",
         "0.02"
        ]
       ],
       "shape": {
        "columns": 17,
        "rows": 4
       }
      },
      "text/html": [
       "<div>\n",
       "<style scoped>\n",
       "    .dataframe tbody tr th:only-of-type {\n",
       "        vertical-align: middle;\n",
       "    }\n",
       "\n",
       "    .dataframe tbody tr th {\n",
       "        vertical-align: top;\n",
       "    }\n",
       "\n",
       "    .dataframe thead th {\n",
       "        text-align: right;\n",
       "    }\n",
       "</style>\n",
       "<table border=\"1\" class=\"dataframe\">\n",
       "  <thead>\n",
       "    <tr style=\"text-align: right;\">\n",
       "      <th></th>\n",
       "      <th>Rank</th>\n",
       "      <th>CCA3</th>\n",
       "      <th>Country</th>\n",
       "      <th>Capital</th>\n",
       "      <th>Continent</th>\n",
       "      <th>2022 Population</th>\n",
       "      <th>2020 Population</th>\n",
       "      <th>2015 Population</th>\n",
       "      <th>2010 Population</th>\n",
       "      <th>2000 Population</th>\n",
       "      <th>1990 Population</th>\n",
       "      <th>1980 Population</th>\n",
       "      <th>1970 Population</th>\n",
       "      <th>Area (km²)</th>\n",
       "      <th>Density (per km²)</th>\n",
       "      <th>Growth Rate</th>\n",
       "      <th>World Population Percentage</th>\n",
       "    </tr>\n",
       "  </thead>\n",
       "  <tbody>\n",
       "    <tr>\n",
       "      <th>100</th>\n",
       "      <td>52</td>\n",
       "      <td>CIV</td>\n",
       "      <td>Ivory Coast</td>\n",
       "      <td>Yamoussoukro</td>\n",
       "      <td>Africa</td>\n",
       "      <td>28160542.0</td>\n",
       "      <td>26811790.0</td>\n",
       "      <td>23596741.0</td>\n",
       "      <td>21120042.0</td>\n",
       "      <td>16799670.0</td>\n",
       "      <td>11910540.0</td>\n",
       "      <td>8303809.0</td>\n",
       "      <td>5477086.0</td>\n",
       "      <td>322463.0</td>\n",
       "      <td>NaN</td>\n",
       "      <td>414.151905</td>\n",
       "      <td>0.35</td>\n",
       "    </tr>\n",
       "    <tr>\n",
       "      <th>101</th>\n",
       "      <td>139</td>\n",
       "      <td>JAM</td>\n",
       "      <td>Jamaica</td>\n",
       "      <td>Kingston</td>\n",
       "      <td>North America</td>\n",
       "      <td>2827377.0</td>\n",
       "      <td>2820436.0</td>\n",
       "      <td>2794445.0</td>\n",
       "      <td>2733896.0</td>\n",
       "      <td>2612205.0</td>\n",
       "      <td>2392030.0</td>\n",
       "      <td>2135546.0</td>\n",
       "      <td>1859091.0</td>\n",
       "      <td>10991.0</td>\n",
       "      <td>NaN</td>\n",
       "      <td>52.083841</td>\n",
       "      <td>0.04</td>\n",
       "    </tr>\n",
       "    <tr>\n",
       "      <th>183</th>\n",
       "      <td>72</td>\n",
       "      <td>SEN</td>\n",
       "      <td>Senegal</td>\n",
       "      <td>Dakar</td>\n",
       "      <td>Africa</td>\n",
       "      <td>17316449.0</td>\n",
       "      <td>16436119.0</td>\n",
       "      <td>14356181.0</td>\n",
       "      <td>12530121.0</td>\n",
       "      <td>9704287.0</td>\n",
       "      <td>7536001.0</td>\n",
       "      <td>5703869.0</td>\n",
       "      <td>4367744.0</td>\n",
       "      <td>196722.0</td>\n",
       "      <td>NaN</td>\n",
       "      <td>1.026100</td>\n",
       "      <td>0.22</td>\n",
       "    </tr>\n",
       "    <tr>\n",
       "      <th>211</th>\n",
       "      <td>153</td>\n",
       "      <td>TTO</td>\n",
       "      <td>Trinidad and Tobago</td>\n",
       "      <td>Port-of-Spain</td>\n",
       "      <td>North America</td>\n",
       "      <td>1531044.0</td>\n",
       "      <td>1518147.0</td>\n",
       "      <td>1460177.0</td>\n",
       "      <td>1410296.0</td>\n",
       "      <td>1332203.0</td>\n",
       "      <td>1266518.0</td>\n",
       "      <td>1127852.0</td>\n",
       "      <td>988890.0</td>\n",
       "      <td>5130.0</td>\n",
       "      <td>NaN</td>\n",
       "      <td>1.003500</td>\n",
       "      <td>0.02</td>\n",
       "    </tr>\n",
       "  </tbody>\n",
       "</table>\n",
       "</div>"
      ],
      "text/plain": [
       "     Rank CCA3              Country        Capital      Continent  \\\n",
       "100    52  CIV          Ivory Coast   Yamoussoukro         Africa   \n",
       "101   139  JAM              Jamaica       Kingston  North America   \n",
       "183    72  SEN              Senegal          Dakar         Africa   \n",
       "211   153  TTO  Trinidad and Tobago  Port-of-Spain  North America   \n",
       "\n",
       "     2022 Population  2020 Population  2015 Population  2010 Population  \\\n",
       "100       28160542.0       26811790.0       23596741.0       21120042.0   \n",
       "101        2827377.0        2820436.0        2794445.0        2733896.0   \n",
       "183       17316449.0       16436119.0       14356181.0       12530121.0   \n",
       "211        1531044.0        1518147.0        1460177.0        1410296.0   \n",
       "\n",
       "     2000 Population  1990 Population  1980 Population  1970 Population  \\\n",
       "100       16799670.0       11910540.0        8303809.0        5477086.0   \n",
       "101        2612205.0        2392030.0        2135546.0        1859091.0   \n",
       "183        9704287.0        7536001.0        5703869.0        4367744.0   \n",
       "211        1332203.0        1266518.0        1127852.0         988890.0   \n",
       "\n",
       "     Area (km²)  Density (per km²)  Growth Rate  World Population Percentage  \n",
       "100    322463.0                NaN   414.151905                         0.35  \n",
       "101     10991.0                NaN    52.083841                         0.04  \n",
       "183    196722.0                NaN     1.026100                         0.22  \n",
       "211      5130.0                NaN     1.003500                         0.02  "
      ]
     },
     "execution_count": 27,
     "metadata": {},
     "output_type": "execute_result"
    }
   ],
   "source": [
    "missing_data"
   ]
  },
  {
   "cell_type": "code",
   "execution_count": 28,
   "id": "8174e04c",
   "metadata": {},
   "outputs": [
    {
     "data": {
      "text/plain": [
       "Index(['Rank', 'CCA3', 'Country', 'Capital', 'Continent', '2022 Population',\n",
       "       '2020 Population', '2015 Population', '2010 Population',\n",
       "       '2000 Population', '1990 Population', '1980 Population',\n",
       "       '1970 Population', 'Area (km²)', 'Density (per km²)', 'Growth Rate',\n",
       "       'World Population Percentage'],\n",
       "      dtype='object')"
      ]
     },
     "execution_count": 28,
     "metadata": {},
     "output_type": "execute_result"
    }
   ],
   "source": [
    "raw_df.columns"
   ]
  },
  {
   "cell_type": "code",
   "execution_count": 29,
   "id": "548a0df6",
   "metadata": {},
   "outputs": [],
   "source": [
    "def density(df):\n",
    "    df = df.copy()\n",
    "    for i in range(1,len(df)):\n",
    "        if pd.isna(df.loc[i, 'Density (per km²)']):\n",
    "            population = df.loc[i, '2022 Population']\n",
    "            area = df.loc[i, 'Area (km²)']\n",
    "            if not np.isnan(population) and not np.isnan(area) and area > 0:\n",
    "                df.loc[i, 'Density (per km²)'] = population / area\n",
    "    return df"
   ]
  },
  {
   "cell_type": "markdown",
   "id": "86e8b742",
   "metadata": {},
   "source": [
    "To calculate the population density, a custom function was developed using the following formula:\n",
    "Population Density = Population / Land Area"
   ]
  },
  {
   "cell_type": "code",
   "execution_count": 30,
   "id": "e5894892",
   "metadata": {},
   "outputs": [],
   "source": [
    "raw_df = density(raw_df)"
   ]
  },
  {
   "cell_type": "code",
   "execution_count": 31,
   "id": "5e972d54",
   "metadata": {},
   "outputs": [
    {
     "data": {
      "text/plain": [
       "Rank                           0\n",
       "CCA3                           0\n",
       "Country                        0\n",
       "Capital                        0\n",
       "Continent                      0\n",
       "2022 Population                0\n",
       "2020 Population                0\n",
       "2015 Population                0\n",
       "2010 Population                0\n",
       "2000 Population                0\n",
       "1990 Population                0\n",
       "1980 Population                0\n",
       "1970 Population                0\n",
       "Area (km²)                     0\n",
       "Density (per km²)              0\n",
       "Growth Rate                    0\n",
       "World Population Percentage    0\n",
       "dtype: int64"
      ]
     },
     "execution_count": 31,
     "metadata": {},
     "output_type": "execute_result"
    }
   ],
   "source": [
    "raw_df.isnull().sum()"
   ]
  },
  {
   "cell_type": "markdown",
   "id": "cd83fee4",
   "metadata": {},
   "source": [
    "The following steps have been successfully completed to address missing values and enhance the dataset:\n",
    "- Imputed population values using an exponential approach\n",
    "- Calculated growth rates\n",
    "- Manually filled in area values\n",
    "- Calculated population density"
   ]
  },
  {
   "cell_type": "code",
   "execution_count": null,
   "id": "779686a8",
   "metadata": {},
   "outputs": [],
   "source": []
  }
 ],
 "metadata": {
  "kernelspec": {
   "display_name": ".venv",
   "language": "python",
   "name": "python3"
  },
  "language_info": {
   "codemirror_mode": {
    "name": "ipython",
    "version": 3
   },
   "file_extension": ".py",
   "mimetype": "text/x-python",
   "name": "python",
   "nbconvert_exporter": "python",
   "pygments_lexer": "ipython3",
   "version": "3.12.5"
  }
 },
 "nbformat": 4,
 "nbformat_minor": 5
}
